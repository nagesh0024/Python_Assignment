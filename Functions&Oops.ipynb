{
  "nbformat": 4,
  "nbformat_minor": 0,
  "metadata": {
    "colab": {
      "provenance": [],
      "authorship_tag": "ABX9TyOiSnfbKgjjvXzQ6/OWsvs3",
      "include_colab_link": true
    },
    "kernelspec": {
      "name": "python3",
      "display_name": "Python 3"
    },
    "language_info": {
      "name": "python"
    }
  },
  "cells": [
    {
      "cell_type": "markdown",
      "metadata": {
        "id": "view-in-github",
        "colab_type": "text"
      },
      "source": [
        "<a href=\"https://colab.research.google.com/github/nagesh0024/Python_Assignment/blob/main/Functions%26Oops.ipynb\" target=\"_parent\"><img src=\"https://colab.research.google.com/assets/colab-badge.svg\" alt=\"Open In Colab\"/></a>"
      ]
    },
    {
      "cell_type": "markdown",
      "source": [
        "#Q1  Explain the importance of function.\n",
        "\n",
        "Answer :-\n",
        "\n",
        " Here are some key reasons why functions are important in Python:\n",
        "\n",
        "1. Modularity: Functions allow you to break down a complex problem into smaller, more manageable pieces. Each function can focus on solving a specific sub-task, making the overall codebase easier to understand and maintain.\n",
        "\n",
        "2. Reusability: Once you define a function, you can reuse it multiple times throughout your code. This promotes code reuse and reduces redundancy, as you don't have to rewrite the same logic every time you need it.\n",
        "\n",
        "3. Abstraction: Functions hide the implementation details of a particular task, providing a high-level interface for interacting with it. This allows you to focus on what the function does rather than how it achieves it, which improves code readability and comprehension.\n",
        "\n",
        "4. Encapsulation: Functions encapsulate related code into a single unit, making it easier to manage and reason about. Encapsulation helps prevent unintended interactions between different parts of the codebase, promoting better organization and reducing the likelihood of bugs.\n",
        "\n",
        "5. Code Organization: Functions help organize your code into logical units, making it easier to navigate and maintain. By grouping related functionality together, you can improve code readability and maintainability.\n",
        "\n",
        "6. Testing and Debugging: Functions enable you to isolate specific pieces of functionality for testing and debugging purposes. This makes it easier to identify and fix errors, as you can focus on individual functions without having to consider the entire codebase.\n",
        "\n",
        "7. Scoping and Namespace: Functions have their own local scope, which helps manage variable names and prevent naming conflicts. This allows you to use the same variable names in different functions without worrying about them interfering with each other."
      ],
      "metadata": {
        "id": "WEylGgCt-fb3"
      }
    },
    {
      "cell_type": "markdown",
      "source": [
        "#Q2. Write a basic function to greet students.\n",
        "\n",
        "Answer :-"
      ],
      "metadata": {
        "id": "vHKchNTbAwQo"
      }
    },
    {
      "cell_type": "code",
      "execution_count": null,
      "metadata": {
        "id": "PyW5oQx2-BKI"
      },
      "outputs": [],
      "source": [
        "def greet_student(name):\n",
        "  print(f\"Hello, {name}! Welcome to the class.\")\n",
        "\n",
        "greet_student(\"Rohan\")"
      ]
    },
    {
      "cell_type": "markdown",
      "source": [
        "#Q3. What is the difference between print and return stetments?\n",
        "\n",
        "Answer :-\n",
        "\n",
        "The print and return statements serve different purposes in Python:\n",
        "\n",
        "1. print statement: The print statement is used to display output to the console. It prints the specified expression(s) to the standard output (usually the console or terminal). It's primarily used for debugging purposes or providing information to the user.\n",
        "\n",
        "2. return statement: The return statement is used to exit a function and return a value back to the caller. When a function encounters a return statement, it immediately exits and passes the specified value (if any) back to the code that called the function. The return statement is essential for passing data back from a function to the calling code."
      ],
      "metadata": {
        "id": "zNRhlVIuDSda"
      }
    },
    {
      "cell_type": "markdown",
      "source": [
        "#Q4. What are args* and kwargs**?\n",
        "\n",
        "Answer :-\n",
        "\n",
        "In Python, *args and **kwargs are special syntax used in function definitions to handle variable numbers of arguments.\n",
        "\n",
        "1. *args (Arbitrary Arguments): The *args parameter allows a function to accept any number of positional arguments. When you prefix a parameter with * in a function definition, it collects all the positional arguments into a tuple.\n",
        "\n",
        "2. **kwargs (Keyword Arguments): The **kwargs parameter allows a function to accept any number of keyword arguments. When you prefix a parameter with ** in a function definition, it collects all the keyword arguments into a dictionary where the keys are the parameter names and the values are the associated values"
      ],
      "metadata": {
        "id": "6oTlA6siEnz5"
      }
    },
    {
      "cell_type": "markdown",
      "source": [
        "#Q5. Explain the iterator function.\n",
        "\n",
        "Answer :-\n",
        "\n",
        "In Python, an iterator is an object that represents a stream of data. It enables iteration over a sequence of elements, such as lists, tuples, dictionaries, and more, by providing a way to access elements one at a time without having to access the entire sequence at once. The iter() function in Python is used to create an iterator object from an iterable.\n",
        "\n",
        "Example :-"
      ],
      "metadata": {
        "id": "xUdaG7OSGAbl"
      }
    },
    {
      "cell_type": "code",
      "source": [
        "my_list = [1, 2, 3, 4, 5]\n",
        "my_iterator = iter(my_list)\n",
        "\n",
        "print(next(my_iterator))\n",
        "\n",
        "for item in my_iterator:\n",
        "  print(item)"
      ],
      "metadata": {
        "id": "gKiJpQOrHIqO"
      },
      "execution_count": null,
      "outputs": []
    },
    {
      "cell_type": "markdown",
      "source": [
        "#Q6. Write the code that generates the squares of number from 1 to n using generator.\n",
        "\n",
        "Answer :-"
      ],
      "metadata": {
        "id": "MTd7NEuwHkYV"
      }
    },
    {
      "cell_type": "code",
      "source": [
        "def generate_squares(n):\n",
        "  for i in range(1, n+1):\n",
        "    yield i**2\n",
        "\n",
        "square_num = generate_squares(7)\n",
        "for j in square_num:\n",
        "  print(j)"
      ],
      "metadata": {
        "id": "rsboKXAvJos8"
      },
      "execution_count": null,
      "outputs": []
    },
    {
      "cell_type": "markdown",
      "source": [
        "#Q7. Write a code that generates palindromic numbers up to n using generator.\n",
        "\n",
        "Answer :-"
      ],
      "metadata": {
        "id": "28Sqc4FAKtqW"
      }
    },
    {
      "cell_type": "code",
      "source": [
        "def is_palindrome(num):\n",
        "  return str(num) == str(num)[::-1]\n",
        "\n",
        "def generate_palindromes(n):\n",
        "  for num in range(n + 1):\n",
        "    if is_palindrome(num):\n",
        "      yield num\n",
        "\n",
        "n = 100\n",
        "print(\"Palindromic numbers up to\", n, \":\")\n",
        "for palindrome in generate_palindromes(n):\n",
        "  print(palindrome)"
      ],
      "metadata": {
        "id": "HpU0Ol0vh1uD"
      },
      "execution_count": null,
      "outputs": []
    },
    {
      "cell_type": "markdown",
      "source": [
        "#Q8. Write a code that generates even numbers from 2 to n using generator.\n",
        "\n",
        "Answer :-"
      ],
      "metadata": {
        "id": "v9jvGeQXi4XG"
      }
    },
    {
      "cell_type": "code",
      "source": [
        "def generate_even_numbers(n):\n",
        "  num = 2\n",
        "  while num <= n:\n",
        "    yield num\n",
        "    num += 2\n",
        "n = 20\n",
        "print(\"Even numbers from 2 to\", n, \":\")\n",
        "for even_num in generate_even_numbers(n):\n",
        "  print(even_num)"
      ],
      "metadata": {
        "id": "e1p06fbgj4jO"
      },
      "execution_count": null,
      "outputs": []
    },
    {
      "cell_type": "markdown",
      "source": [
        "#Q9. Write a code that generates power of two up to n using a generator.\n",
        "\n",
        "Answer :-"
      ],
      "metadata": {
        "id": "IQxvfGW5lXHk"
      }
    },
    {
      "cell_type": "code",
      "source": [
        "def generate_power(n):\n",
        "  for i in range(1, n+1):\n",
        "    yield i**2\n",
        "n = 10\n",
        "print(\"Power of Two from 1 to\",n,\":\")\n",
        "for power_num in generate_power(n):\n",
        "  print(power_num)"
      ],
      "metadata": {
        "id": "6AW6OrfslyaA"
      },
      "execution_count": null,
      "outputs": []
    },
    {
      "cell_type": "markdown",
      "source": [
        "#Q10. Write a code that generates prime numbers up to n using a generator.\n",
        "\n",
        "Answer :-"
      ],
      "metadata": {
        "id": "j8mv9bHmnVII"
      }
    },
    {
      "cell_type": "code",
      "source": [
        "def is_prime(num):\n",
        "  if num <= 1:\n",
        "    return False\n",
        "  elif num <= 3:\n",
        "    return True\n",
        "  elif num % 2 == 0 or num % 3 == 0:\n",
        "    return False\n",
        "  i = 5\n",
        "  while i * i <= num:\n",
        "    if num % i == 0 or num % (i + 2) == 0:\n",
        "      return False\n",
        "    i += 6\n",
        "  return True\n",
        "\n",
        "def generate_primes(n):\n",
        "  for num in range(2, n + 1):\n",
        "    if is_prime(num):\n",
        "      yield num\n",
        "\n",
        "n = 50\n",
        "print(\"Prime numbers up to\", n, \":\")\n",
        "for prime in generate_primes(n):\n",
        "  print(prime)"
      ],
      "metadata": {
        "id": "rGhdrplyrAm8"
      },
      "execution_count": null,
      "outputs": []
    },
    {
      "cell_type": "markdown",
      "source": [
        "#Q11. Write a code to uses a lambda function to calculate the sum of two numbers.\n",
        "\n",
        "Answer :-"
      ],
      "metadata": {
        "id": "GESSvZYTw6Et"
      }
    },
    {
      "cell_type": "code",
      "source": [
        "sum_function = lambda x, y: x + y\n",
        "\n",
        "num1 = 5\n",
        "num2 = 7\n",
        "result = sum_function(num1, num2)\n",
        "print(\"The sum of\", num1, \"and\", num2, \"is:\", result)"
      ],
      "metadata": {
        "colab": {
          "base_uri": "https://localhost:8080/"
        },
        "id": "PEP-X6dDxOCj",
        "outputId": "26f72f81-880b-41f3-b36a-ac3d5ed03bf8"
      },
      "execution_count": null,
      "outputs": [
        {
          "output_type": "stream",
          "name": "stdout",
          "text": [
            "The sum of 5 and 7 is: 12\n"
          ]
        }
      ]
    },
    {
      "cell_type": "markdown",
      "source": [
        "#Q12. Write a code to uses a lambda function to calculate the square of give numbers.\n",
        "\n",
        "Answer :-"
      ],
      "metadata": {
        "id": "ehfXJqr0xjw0"
      }
    },
    {
      "cell_type": "code",
      "source": [
        "square_function = lambda x: x ** 2\n",
        "\n",
        "num = 8\n",
        "result = square_function(num)\n",
        "print(\"The square of\", num, \"is:\", result)"
      ],
      "metadata": {
        "id": "SFFCMY20x7cq"
      },
      "execution_count": null,
      "outputs": []
    },
    {
      "cell_type": "markdown",
      "source": [
        "#Q13. Write a code to uses a lambda function to chack the whether a given number in even or odd.\n",
        "\n",
        "Answer :-"
      ],
      "metadata": {
        "id": "EHDrRk3uyes-"
      }
    },
    {
      "cell_type": "code",
      "source": [
        "check_even_odd = lambda x: \"Even\" if x % 2 == 0 else \"Odd\"\n",
        "\n",
        "num = 5\n",
        "result = check_even_odd(num)\n",
        "print(num, \"is:\", result)"
      ],
      "metadata": {
        "id": "U4k3tM56zG19"
      },
      "execution_count": null,
      "outputs": []
    },
    {
      "cell_type": "markdown",
      "source": [
        "#Q14. Write a code to uses a lambda function to concatenate two strings.\n",
        "\n",
        "Answer :-"
      ],
      "metadata": {
        "id": "UQhLH-nAz4C8"
      }
    },
    {
      "cell_type": "code",
      "source": [
        "concatenate_strings = lambda str1, str2: str1 + str2\n",
        "\n",
        "string1 = \"Hello, \"\n",
        "string2 = \"world!\"\n",
        "result = concatenate_strings(string1, string2)\n",
        "print(\"Concatenated string:\", result)"
      ],
      "metadata": {
        "id": "6LOyP1DA0E9z"
      },
      "execution_count": null,
      "outputs": []
    },
    {
      "cell_type": "markdown",
      "source": [
        "#Q15. Write a code that uses a lambda function to find the maximum of three given numbers.\n",
        "\n",
        "Answer :-"
      ],
      "metadata": {
        "id": "hdF5DmY-0dzg"
      }
    },
    {
      "cell_type": "code",
      "source": [
        "find_max = lambda x, y, z: max(x, y, z)\n",
        "\n",
        "num1 = 10\n",
        "num2 = 20\n",
        "num3 = 15\n",
        "result = find_max(num1, num2, num3)\n",
        "print(\"Maximum of\", num1, \",\", num2, \"and\", num3, \"is:\", result)"
      ],
      "metadata": {
        "id": "jtrAA46t09qh"
      },
      "execution_count": null,
      "outputs": []
    },
    {
      "cell_type": "markdown",
      "source": [
        "#Q16. Write a code that generates the squares of even numbers from a given list.\n",
        "\n",
        "Answer :-"
      ],
      "metadata": {
        "id": "arpSPHX33tQZ"
      }
    },
    {
      "cell_type": "code",
      "source": [
        "def square_of_evens(numbers):\n",
        "  even_squares = [num**2 for num in numbers if num % 2 == 0]\n",
        "  return even_squares\n",
        "\n",
        "numbers_list = [1, 2, 3, 4, 5, 6, 7, 8, 9, 10]\n",
        "result = square_of_evens(numbers_list)\n",
        "print(result)"
      ],
      "metadata": {
        "id": "W0nJkUS33_JH"
      },
      "execution_count": null,
      "outputs": []
    },
    {
      "cell_type": "markdown",
      "source": [
        "#Q17. Write a code that calculates the product of positive numbers from a given list.\n",
        "\n",
        "Answer :-"
      ],
      "metadata": {
        "id": "jeX4GNEG4NUM"
      }
    },
    {
      "cell_type": "code",
      "source": [
        "def positive_product(numbers):\n",
        "  product = 1\n",
        "  for num in numbers:\n",
        "    if num > 0:\n",
        "        product *= num\n",
        "  return product\n",
        "\n",
        "numbers_list = [1, -2, 3, 4, -5, 6, 7, -8, 9, 10]\n",
        "result = positive_product(numbers_list)\n",
        "print(result)"
      ],
      "metadata": {
        "id": "2JzCan2w4VND"
      },
      "execution_count": null,
      "outputs": []
    },
    {
      "cell_type": "markdown",
      "source": [
        "#Q18. Write a code that doubles the values of odd numbers from a given list.\n",
        "\n",
        "Answer :-"
      ],
      "metadata": {
        "id": "1jzUMTc15WMC"
      }
    },
    {
      "cell_type": "code",
      "source": [
        "def double_odd_numbers(numbers):\n",
        "  doubled_odd = [num * 2 if num % 2 != 0 else num for num in numbers]\n",
        "  return doubled_odd\n",
        "\n",
        "numbers_list = [1, 2, 3, 4, 5, 6, 7, 8, 9, 10]\n",
        "result = double_odd_numbers(numbers_list)\n",
        "print(result)"
      ],
      "metadata": {
        "id": "URZBzypK5cTh"
      },
      "execution_count": null,
      "outputs": []
    },
    {
      "cell_type": "markdown",
      "source": [
        "#Q19. Write a code that calculates the sum of cubes of numbers from a given list.\n",
        "\n",
        "Answer :-"
      ],
      "metadata": {
        "id": "a2KaiOUI6AEs"
      }
    },
    {
      "cell_type": "code",
      "source": [
        "def sum_of_cubes(numbers):\n",
        "  sum_cubes = sum(num**3 for num in numbers)\n",
        "  return sum_cubes\n",
        "\n",
        "numbers_list = [1, 2, 3, 4, 5]\n",
        "result = sum_of_cubes(numbers_list)\n",
        "print(result)"
      ],
      "metadata": {
        "id": "wzA2u1ZM6Ge5"
      },
      "execution_count": null,
      "outputs": []
    },
    {
      "cell_type": "markdown",
      "source": [
        "#Q20. Write a code that filters out prime numbers from a given list.\n",
        "\n",
        "Answer :-"
      ],
      "metadata": {
        "id": "LVLAYYHD6yH9"
      }
    },
    {
      "cell_type": "code",
      "source": [
        "def is_prime(num):\n",
        "  if num < 2:\n",
        "    return False\n",
        "  for i in range(2, int(num**0.5) + 1):\n",
        "    if num % i == 0:\n",
        "      return False\n",
        "  return True\n",
        "\n",
        "def filter_primes(numbers):\n",
        "  prime_numbers = [num for num in numbers if is_prime(num)]\n",
        "  return prime_numbers\n",
        "\n",
        "numbers_list = [1, 2, 3, 4, 5, 6, 7, 8, 9, 10]\n",
        "result = filter_primes(numbers_list)\n",
        "print(result)"
      ],
      "metadata": {
        "id": "H5wM7YzW62IF"
      },
      "execution_count": null,
      "outputs": []
    },
    {
      "cell_type": "markdown",
      "source": [
        "#Q21. What is encapsulation in OOP?\n",
        "\n",
        "Answer :-\n",
        "\n",
        "Encapsulation is one of the fundamental concepts in object-oriented programming (OOP). It refers to the bundling of data and methods that operate on the data into a single unit, typically called a class. Encapsulation allows for the implementation details of a class to be hidden from the outside world, and only the necessary interfaces (methods) are exposed for interaction with the class.\n",
        "\n",
        "There are several key aspects to encapsulation:\n",
        "\n",
        "1. Data Hiding: Encapsulation hides the internal state of an object from the outside world. The data members (attributes or properties) of a class are often declared as private or protected, meaning they cannot be directly accessed or modified from outside the class. Access to these data members is typically provided through getter and setter methods, which enforce validation or other logic.\n",
        "2. Information Hiding: Encapsulation hides the implementation details of a class. Clients of the class interact with it through a well-defined interface provided by its public methods. They do not need to know how the methods are implemented or how the data is stored internally; they only need to know how to use the class's public interface.\n",
        "3. Access Control: Encapsulation allows for control over access to the members of a class. By using access modifiers like private, protected, and public, developers can specify who can access the data members and methods of a class. This helps enforce data integrity and ensures that the class's internal state is maintained correctly."
      ],
      "metadata": {
        "id": "WQy-r0nK9M6J"
      }
    },
    {
      "cell_type": "markdown",
      "source": [
        "#Q22. Explain the use of access modifiers in Python classes.\n",
        "\n",
        "Answer :-\n",
        "\n",
        "In Python, access modifiers are not enforced in the same way as in some other object-oriented programming languages like Java or C++. However, Python provides a convention and some language features that can be used to achieve similar effects.\n",
        "\n",
        "There are three main access modifiers in Python:\n",
        "\n",
        "1. Public: By default, all members (attributes and methods) of a class in Python are public. This means they can be accessed and modified from outside the class.\n",
        "2. Protected: In Python, members with names starting with a single underscore (_) are conventionally considered protected. While they can still be accessed from outside the class, the leading underscore serves as a signal to indicate that they are intended for internal use or for subclassing, and should not be accessed directly by clients of the class.\n",
        "3. Private: Members with names starting with a double underscore (__) are considered private in Python. These members are subject to name mangling, which means their names are altered to include the class name, making them harder to access from outside the class. However, they can still be accessed if necessary, but it's generally discouraged to do so."
      ],
      "metadata": {
        "id": "3XsWNVif_roM"
      }
    },
    {
      "cell_type": "markdown",
      "source": [
        "#Q23. What is inheritance in OOP?\n",
        "\n",
        "Answer :-\n",
        "\n",
        "\n",
        "Inheritance is a fundamental concept in object-oriented programming (OOP) that allows a new class (called the derived class or subclass) to inherit properties and behavior (attributes and methods) from an existing class (called the base class, parent class, or superclass). This means that the subclass can reuse code from the superclass and extend or modify its functionality as needed.\n",
        "\n",
        "The main idea behind inheritance is to promote code reusability and establish a hierarchical relationship between classes. By inheriting from a base class, a subclass automatically gains access to all the attributes and methods defined in the base class, without the need to re-implement them. This simplifies the development process, reduces code duplication, and facilitates maintenance.\n",
        "\n",
        "Key concepts related to inheritance include:\n",
        "\n",
        "1. Base Class (Superclass): The existing class from which properties and behavior are inherited. It serves as the blueprint for the subclass.\n",
        "2. Derived Class (Subclass): The new class that inherits from the base class. It extends or specializes the functionality of the base class by adding new attributes or methods, or by overriding existing ones.\n",
        "3. Single Inheritance: In single inheritance, a subclass inherits from only one base class.\n",
        "4. Multiple Inheritance: In multiple inheritance, a subclass can inherit from multiple base classes. This allows for more flexibility but can lead to complexities and ambiguity if not used carefully.\n",
        "5. Method Overriding: Subclasses can provide their own implementation for methods inherited from the base class. This is known as method overriding, and it allows subclasses to customize or extend the behavior of the inherited methods."
      ],
      "metadata": {
        "id": "Lhh2ie8sATCh"
      }
    },
    {
      "cell_type": "markdown",
      "source": [
        "#Q24. Define polymorphism in OOP?\n",
        "\n",
        "Answer :-\n",
        "\n",
        "Polymorphism is a fundamental concept in object-oriented programming (OOP) that allows objects of different classes to be treated as objects of a common superclass. It enables a single interface (method or function) to operate on objects of various types, providing a way to perform similar operations on different types of objects without knowing their specific class.\n",
        "\n",
        "There are two main types of polymorphism:\n",
        "\n",
        "1. Compile-time Polymorphism (Static Polymorphism): Compile-time polymorphism is achieved through method overloading and operator overloading. Method overloading allows multiple methods with the same name but different parameters to exist within the same class. The appropriate method to be called is determined at compile time based on the number and types of arguments passed to it. Operator overloading allows operators like +, -, *, etc., to be overloaded for user-defined classes, enabling custom behavior for these operators.\n",
        "2. Run-time Polymorphism (Dynamic Polymorphism): Run-time polymorphism is achieved through method overriding and interface implementation. Method overriding occurs when a subclass provides a specific implementation for a method that is already defined in its superclass. The appropriate method to be executed is determined at run time based on the actual type of the object. Interface implementation allows different classes to implement the same interface and provide their own implementation for its methods, enabling objects of these classes to be treated interchangeably based on the interface they implement."
      ],
      "metadata": {
        "id": "i8G7vYrsBE9g"
      }
    },
    {
      "cell_type": "markdown",
      "source": [
        "#Q25. Explain method overriding in Python.\n",
        "\n",
        "Answer :-\n",
        "\n",
        "Method overriding :\n",
        " In Python, method overriding is the process of providing a different\n",
        "implementation for a method that is already defined in the superclass within a subclass. It enables the\n",
        "subclass to define its own version of a method with the same name and parameters as the method in the\n",
        "superclass. When a method is overridden, the subclass implements the method in its own way, which\n",
        "overrides the behaviour defined in the superclass. The subclass can then alter or expand the functionality of\n",
        "the inherited method.\n",
        "\n",
        " The name, parameters, and return type of the overridden method in the subclass must match those of the\n",
        "method in the superclass. Method overriding occurs only when the subclass has a method with the same\n",
        "name and signature as the superclass method.\n",
        "\n",
        " When a subclass object is used to call the overridden method during runtime, the subclass implementation is\n",
        "invoked rather than the superclass implementation. A crucial element of polymorphism is the dynamic\n",
        "dispatch of methods based on the actual object type."
      ],
      "metadata": {
        "id": "RZqa6FMIBttq"
      }
    },
    {
      "cell_type": "markdown",
      "source": [
        "#Q26. Define a parent class Animal with a method make_sound that prints \"Generic animal sound\". Create a child class Dog inheriting from Animal with a method make_sound that prints \"Woof!\".\n",
        "\n",
        "Answer :-"
      ],
      "metadata": {
        "id": "-_HRtUpgEiPO"
      }
    },
    {
      "cell_type": "code",
      "source": [
        "class Animal:\n",
        "  def make_sound(self):\n",
        "    print(\"Generic animal sound\")\n",
        "\n",
        "class Dog(Animal):\n",
        "  def make_sound(self):\n",
        "    print(\"Woof!\")\n",
        "\n",
        "animal = Animal()\n",
        "animal.make_sound()\n",
        "\n",
        "dog = Dog()\n",
        "dog.make_sound()"
      ],
      "metadata": {
        "id": "tnx0DHk82Bw0"
      },
      "execution_count": null,
      "outputs": []
    },
    {
      "cell_type": "markdown",
      "source": [
        "#Q27. Define a method move in the Animal class that prints \"Animal moves\". Override the move method in the Dog class to print \"Dog runs.\n",
        "\n",
        "Answer :-"
      ],
      "metadata": {
        "id": "rNTPiNXP3iMr"
      }
    },
    {
      "cell_type": "code",
      "source": [
        "class Animal:\n",
        "  def make_sound(self):\n",
        "    print(\"Generic animal sound\")\n",
        "\n",
        "  def move(self):\n",
        "    print(\"Animal moves\")\n",
        "\n",
        "class Dog(Animal):\n",
        "  def make_sound(self):\n",
        "    print(\"Woof!\")\n",
        "\n",
        "  def move(self):\n",
        "    print(\"Dog runs\")\n",
        "\n",
        "animal = Animal()\n",
        "animal.make_sound()\n",
        "animal.move()\n",
        "\n",
        "dog = Dog()\n",
        "dog.make_sound()\n",
        "dog.move()"
      ],
      "metadata": {
        "id": "6uy6EZUO3y3T"
      },
      "execution_count": null,
      "outputs": []
    },
    {
      "cell_type": "markdown",
      "source": [
        "#Q28. Create a class Mammal with a method reproduce that prints \"Giving birth to live young.\" Create a class DogMammal inheriting from both Dog and Mammal.\n",
        "\n",
        "Answer :-"
      ],
      "metadata": {
        "id": "ukat5mL64q2Y"
      }
    },
    {
      "cell_type": "code",
      "source": [
        "class Mammal:\n",
        "  def reproduce(self):\n",
        "    print(\"Giving birth to live young.\")\n",
        "\n",
        "class Animal:\n",
        "  def make_sound(self):\n",
        "    print(\"Generic animal sound\")\n",
        "\n",
        "  def move(self):\n",
        "    print(\"Animal moves\")\n",
        "\n",
        "class Dog(Animal):\n",
        "  def make_sound(self):\n",
        "    print(\"Woof!\")\n",
        "\n",
        "  def move(self):\n",
        "    print(\"Dog runs\")\n",
        "\n",
        "class DogMammal(Dog, Mammal):\n",
        "  pass\n",
        "\n",
        "dog_mammal = DogMammal()\n",
        "dog_mammal.make_sound()\n",
        "dog_mammal.move()\n",
        "dog_mammal.reproduce()"
      ],
      "metadata": {
        "id": "p1mFAJ2A5EYb"
      },
      "execution_count": null,
      "outputs": []
    },
    {
      "cell_type": "markdown",
      "source": [
        "#Q29.  Create a class GermanShepherd inheriting from Dog and override the make_sound method to print \"Bark!\".\n",
        "\n",
        "Answer :-"
      ],
      "metadata": {
        "id": "opPyYn9G6NT-"
      }
    },
    {
      "cell_type": "code",
      "source": [
        "class Animal:\n",
        "  def make_sound(self):\n",
        "    print(\"Generic animal sound\")\n",
        "\n",
        "  def move(self):\n",
        "    print(\"Animal moves\")\n",
        "\n",
        "class Dog(Animal):\n",
        "  def make_sound(self):\n",
        "    print(\"Woof!\")\n",
        "\n",
        "  def move(self):\n",
        "    print(\"Dog runs\")\n",
        "\n",
        "class GermanShepherd(Dog):\n",
        "  def make_sound(self):\n",
        "    print(\"Bark!\")\n",
        "\n",
        "german_shepherd = GermanShepherd()\n",
        "german_shepherd.make_sound()\n",
        "german_shepherd.move()"
      ],
      "metadata": {
        "id": "e_TG3cZD6npb"
      },
      "execution_count": null,
      "outputs": []
    },
    {
      "cell_type": "markdown",
      "source": [
        "#Q30. Define constructors in both the Animal and Dog classes with different initialization parameters.\n",
        "\n",
        "Answer :-"
      ],
      "metadata": {
        "id": "HL96J7el7-p9"
      }
    },
    {
      "cell_type": "code",
      "source": [
        "class Animal:\n",
        "  def __init__(self, species):\n",
        "    self.species = species\n",
        "\n",
        "  def make_sound(self):\n",
        "    print(\"Generic animal sound\")\n",
        "\n",
        "  def move(self):\n",
        "    print(\"Animal moves\")\n",
        "\n",
        "class Dog(Animal):\n",
        "  def __init__(self, breed, species=\"Canine\"):\n",
        "    super().__init__(species)\n",
        "    self.breed = breed\n",
        "\n",
        "  def make_sound(self):\n",
        "    print(\"Woof!\")\n",
        "\n",
        "  def move(self):\n",
        "    print(\"Dog runs\")\n",
        "\n",
        "animal = Animal(\"Feline\")\n",
        "print(animal.species)\n",
        "\n",
        "dog = Dog(\"Labrador\")\n",
        "print(dog.species)\n",
        "print(dog.breed)"
      ],
      "metadata": {
        "id": "6gM-RRD28KVe"
      },
      "execution_count": null,
      "outputs": []
    },
    {
      "cell_type": "markdown",
      "source": [
        "#Q31. What is abstraction in Python? How is it implemented?\n",
        "\n",
        "Answer :-\n",
        "\n",
        "Abstraction in Python, as in many other programming languages, is the concept of hiding complex implementation details and showing only the essential features of an object or system. It allows you to focus on what an object does rather than how it achieves its functionality.\n",
        "\n",
        "Abstraction can be implemented in Python using classes and interfaces (in Python, interfaces are represented by abstract base classes). Here's how it's typically implemented:\n",
        "\n",
        "1. Abstract Base Classes (ABCs): Abstract base classes are classes that are designed to be subclassed, but not instantiated themselves. They define methods that must be implemented by concrete subclasses, thereby enforcing a certain interface or behavior.\n",
        "2. Abstract Methods: Abstract methods are methods declared in an abstract base class but are not implemented. Concrete subclasses must provide an implementation for these methods."
      ],
      "metadata": {
        "id": "BOz0T46c8-Wb"
      }
    },
    {
      "cell_type": "markdown",
      "source": [
        "#Q32. Explain the importance of abstraction in object-oriented programming.\n",
        "\n",
        "Answer :-\n",
        "\n",
        "Abstraction plays a crucial role in object-oriented programming (OOP) for several reasons:\n",
        "\n",
        "1. Encapsulation of Complexity: Abstraction allows you to encapsulate the complex implementation details of an object or system. By hiding unnecessary details and exposing only essential features, abstraction makes it easier to understand and work with the code. This simplification of complexity enhances code readability and maintainability.\n",
        "2. Modularity and Reusability: Abstraction promotes modularity by breaking down a system into smaller, more manageable components. Each component can be abstracted to focus on its specific functionality, making it easier to reuse across different parts of the program or in other projects. This enhances code reusability and promotes the development of scalable and maintainable software.\n",
        "3. Flexibility and Extensibility: Abstraction allows you to define interfaces and behaviors without specifying the actual implementation. This separation of concerns enables you to modify or extend the functionality of a system without affecting other parts of the codebase. It promotes loose coupling between components, making the codebase more flexible and easier to extend or modify over time.\n",
        "4. Enhanced Problem Solving: Abstraction helps you focus on the essential aspects of a problem domain while abstracting away irrelevant details. It allows you to model real-world entities in a more natural and intuitive way, leading to clearer and more effective problem-solving strategies.\n",
        "5. Facilitates Collaboration: Abstraction provides a common language and framework for communication among team members. By defining clear interfaces and contracts, abstraction enables collaboration between developers working on different parts of a system. It promotes better code organization, teamwork, and code maintenance."
      ],
      "metadata": {
        "id": "WHSNchhw-ZOs"
      }
    },
    {
      "cell_type": "markdown",
      "source": [
        "#Q33. How are abstract methods different from regular methods in Python?\n",
        "\n",
        "Answer :-\n",
        "\n",
        "In Python, abstract methods are different from regular methods primarily in their purpose and usage:\n",
        "\n",
        "1. Purpose:\n",
        "\n",
        "- Regular Methods: Regular methods in Python are defined and implemented like any other method. They perform some specific operation or computation when called.\n",
        "- Abstract Methods: Abstract methods, on the other hand, are declared in abstract base classes (ABCs) but are not implemented in the base class itself. They serve as placeholders for methods that must be implemented by concrete subclasses. Abstract methods define a contract that concrete subclasses must fulfill by providing their own implementation.\n",
        "2. Implementation:\n",
        "\n",
        "- Regular Methods: Regular methods have an implementation that provides the actual functionality when the method is called.\n",
        "- Abstract Methods: Abstract methods do not have an implementation in the abstract base class where they are declared. Instead, they are intended to be implemented by concrete subclasses. If an attempt is made to instantiate a class containing an abstract method without providing an implementation, it will raise an error.\n",
        "3. Usage:\n",
        "\n",
        "- Regular Methods: Regular methods can be called directly on instances of a class.\n",
        "- Abstract Methods: Abstract methods cannot be called directly on instances of a class that declares them as abstract. They are meant to be implemented in concrete subclasses, which can then be instantiated and used.\n",
        "4. Enforcement of Implementation:\n",
        "\n",
        "- Regular Methods: There is no requirement for subclasses to implement regular methods defined in a base class. Subclasses may choose to override regular methods, but it's not mandatory.\n",
        "- Abstract Methods: Subclasses must provide an implementation for all abstract methods defined in the base class; otherwise, they will raise an error. This ensures that subclasses adhere to the contract defined by the abstract base class."
      ],
      "metadata": {
        "id": "1jPh6wqgBWjI"
      }
    },
    {
      "cell_type": "markdown",
      "source": [
        "#Q34. How can you achieve abstraction using interfaces in Python?\n",
        "\n",
        "Answer :-\n",
        "\n",
        "\n",
        "In Python, abstraction using interfaces is typically achieved through Abstract Base Classes (ABCs) in the abc module. An interface in Python is represented by an abstract base class that defines one or more abstract methods. Subclasses of these abstract base classes are required to provide concrete implementations for all abstract methods, thus adhering to the interface contract.\n",
        "\n",
        "Here's how you can achieve abstraction using interfaces in Python:\n",
        "\n",
        "1. Define an Abstract Base Class (ABC): Create an abstract base class using the abc module's ABC class as the base class. Declare abstract methods within this class using the @abstractmethod decorator.\n",
        "2. Subclass the ABC: Create concrete subclasses that inherit from the abstract base class. These subclasses must provide concrete implementations for all abstract methods defined in the base class.\n",
        "3. Instantiate Subclasses: Instantiate and use the concrete subclasses. You can treat instances of these subclasses polymorphically, using the interface defined by the abstract base class."
      ],
      "metadata": {
        "id": "ZyVoEDh1CrWk"
      }
    },
    {
      "cell_type": "markdown",
      "source": [
        "#Q35. Can you provide an example of how abstraction can be utilized to create a common interface for a group of related classes in Python?\n",
        "\n",
        "Answer :-\n",
        "\n",
        "In Python, abstraction can be utilized to create a common interface for a group of related classes through abstract base classes (ABCs). Abstract base classes provide a way to define interfaces in Python without providing implementations for all methods. Other classes can then subclass these abstract base classes and provide their own implementations for the abstract methods.\n",
        "\n",
        "Here's an example of how abstraction can be used to create a common interface for a group of related classes:"
      ],
      "metadata": {
        "id": "h7meoUFsEATE"
      }
    },
    {
      "cell_type": "code",
      "source": [
        "from abc import ABC, abstractmethod\n",
        "\n",
        "class Shape(ABC):\n",
        "  @abstractmethod\n",
        "  def area(self):\n",
        "    pass\n",
        "\n",
        "  @abstractmethod\n",
        "  def perimeter(self):\n",
        "    pass\n",
        "\n",
        "class Rectangle(Shape):\n",
        "  def __init__(self, width, height):\n",
        "    self.width = width\n",
        "    self.height = height\n",
        "\n",
        "  def area(self):\n",
        "    return self.width * self.height\n",
        "\n",
        "  def perimeter(self):\n",
        "    return 2 * (self.width + self.height)\n",
        "\n",
        "class Circle(Shape):\n",
        "  def __init__(self, radius):\n",
        "    self.radius = radius\n",
        "\n",
        "  def area(self):\n",
        "    return 3.14 * self.radius * self.radius\n",
        "\n",
        "  def perimeter(self):\n",
        "    return 2 * 3.14 * self.radius\n",
        "\n",
        "rectangle = Rectangle(5, 4)\n",
        "circle = Circle(3)\n",
        "\n",
        "print(\"Rectangle Area:\", rectangle.area())\n",
        "print(\"Rectangle Perimeter:\", rectangle.perimeter())\n",
        "\n",
        "print(\"Circle Area:\", circle.area())\n",
        "print(\"Circle Perimeter:\", circle.perimeter())"
      ],
      "metadata": {
        "id": "F-fyzwPQ3Xz3"
      },
      "execution_count": null,
      "outputs": []
    },
    {
      "cell_type": "markdown",
      "source": [
        "#Q36. How does Python achieve polymorphism through method overriding?\n",
        "\n",
        "Answer :-\n",
        "\n",
        "Python achieves polymorphism through method overriding by allowing subclasses to provide their own implementation of a method defined in their parent class. When a method is called on an object, Python looks for the method in the class of the object first. If the method is not found in the class, Python looks for it in the parent classes (in the order they are specified in the class definition).\n",
        "\n",
        "Here's an example to illustrate how Python achieves polymorphism through method overriding:"
      ],
      "metadata": {
        "id": "eTJREp7P3q6q"
      }
    },
    {
      "cell_type": "code",
      "source": [
        "class Animal:\n",
        "  def speak(self):\n",
        "    return \"Animal speaks\"\n",
        "\n",
        "class Dog(Animal):\n",
        "  def speak(self):\n",
        "    return \"Woof!\"\n",
        "\n",
        "class Cat(Animal):\n",
        "  def speak(self):\n",
        "    return \"Meow!\"\n",
        "\n",
        "animals = [Dog(), Cat()]\n",
        "\n",
        "for animal in animals:\n",
        "  print(animal.speak())"
      ],
      "metadata": {
        "id": "ffGuR3MX4Dxi"
      },
      "execution_count": null,
      "outputs": []
    },
    {
      "cell_type": "markdown",
      "source": [
        "In this example, we have a parent class Animal with a method speak(). Both Dog and Cat classes inherit from Animal and override the speak() method with their own implementations."
      ],
      "metadata": {
        "id": "CmrJpoHN4JaX"
      }
    },
    {
      "cell_type": "markdown",
      "source": [
        "#Q37. Define a base class with a method and a subclass that overrides the method.\n",
        "\n",
        "Answer :-\n",
        "\n"
      ],
      "metadata": {
        "id": "zbY0dSGg4v58"
      }
    },
    {
      "cell_type": "code",
      "source": [
        "class Animal:\n",
        "  def sound(self):\n",
        "    return \"Generic animal sound\"\n",
        "\n",
        "class Dog(Animal):\n",
        "  def sound(self):\n",
        "    return \"Woof!\"\n",
        "\n",
        "animal = Animal()\n",
        "dog = Dog()\n",
        "\n",
        "print(\"Animal sound:\", animal.sound())\n",
        "print(\"Dog sound:\", dog.sound())"
      ],
      "metadata": {
        "id": "Y1jiCXwX5PYI"
      },
      "execution_count": null,
      "outputs": []
    },
    {
      "cell_type": "markdown",
      "source": [
        "#Q38. Define a base class and multiple subclasses with overridden methods.\n",
        "\n",
        "Answer:-"
      ],
      "metadata": {
        "id": "ZqwYLQzB5d_C"
      }
    },
    {
      "cell_type": "code",
      "source": [
        "class Shape:\n",
        "  def area(self):\n",
        "    return 0\n",
        "\n",
        "class Rectangle(Shape):\n",
        "  def __init__(self, width, height):\n",
        "    self.width = width\n",
        "    self.height = height\n",
        "\n",
        "  def area(self):\n",
        "    return self.width * self.height\n",
        "\n",
        "class Circle(Shape):\n",
        "  def __init__(self, radius):\n",
        "    self.radius = radius\n",
        "\n",
        "  def area(self):\n",
        "    return 3.14 * self.radius * self.radius\n",
        "\n",
        "class Triangle(Shape):\n",
        "  def __init__(self, base, height):\n",
        "    self.base = base\n",
        "    self.height = height\n",
        "\n",
        "  def area(self):\n",
        "    return 0.5 * self.base * self.height\n",
        "\n",
        "rectangle = Rectangle(4, 5)\n",
        "circle = Circle(3)\n",
        "triangle = Triangle(4, 3)\n",
        "\n",
        "print(\"Area of Rectangle:\", rectangle.area())\n",
        "print(\"Area of Circle:\", circle.area())\n",
        "print(\"Area of Triangle:\", triangle.area())"
      ],
      "metadata": {
        "id": "K1TTR-ip5lkG"
      },
      "execution_count": null,
      "outputs": []
    },
    {
      "cell_type": "markdown",
      "source": [
        "#Q39. How does polymorphism improve code readability and reusability?\n",
        "\n",
        "Answer :-\n",
        "\n",
        "\n",
        "Polymorphism improves code readability and reusability by allowing different objects to be treated uniformly through a common interface, thus making the code more flexible and easier to understand.\n",
        "\n",
        "1. Readability: Polymorphism allows you to write code that operates on objects of various types without needing to know the specific type of each object. This makes the code more readable because you can focus on the common behavior defined by the interface rather than the specific implementation details of each object.\n",
        "2. Reusability: Polymorphism promotes code reuse by enabling the same code to be applied to objects of different classes that share a common interface. This reduces duplication of code and promotes modular design. When you create new classes that adhere to the same interface, you can reuse existing code that operates on objects of that interface without modification."
      ],
      "metadata": {
        "id": "6XJVhyok6IwI"
      }
    },
    {
      "cell_type": "markdown",
      "source": [
        "#Q40. Describe how Python supports polymorphism with duck typing.\n",
        "\n",
        "Answer :-\n",
        "\n",
        "\n",
        "In Python, polymorphism is supported through a concept known as \"duck typing.\" Duck typing is a dynamic typing technique where the type or the class of an object is less important than the methods it defines. The term \"duck typing\" comes from the saying, \"If it looks like a duck, swims like a duck, and quacks like a duck, then it probably is a duck.\"\n",
        "\n",
        "Python supports duck typing by allowing objects of different types to be used interchangeably if they implement the same methods or attributes, regardless of their inheritance hierarchy. This means that as long as an object supports the necessary methods or attributes, it can be used in place of another object that expects those methods or attributes."
      ],
      "metadata": {
        "id": "yknNl4MC6vho"
      }
    },
    {
      "cell_type": "markdown",
      "source": [
        "#Q41. How do you achieve encapsulation in Python?\n",
        "\n",
        "Answer :-\n",
        "\n",
        "There are some key techniques for achieving encapsulation in Python:\n",
        "\n",
        "1. Private and Protected Attributes: Although Python doesn't have built-in support for private and protected access modifiers like some other languages, it uses naming conventions to indicate the visibility of attributes and methods. Attributes or methods starting with a single underscore _ are considered protected (convention), and those starting with double underscores __ are considered private. However, note that this is more of a convention and can still be accessed from outside the class.\n",
        "\n",
        "2. Getter and Setter Methods: Instead of directly accessing attributes, you can define getter and setter methods to access and modify the attributes. This allows you to control the access and modification of attributes and add additional logic if needed.\n",
        "\n",
        "3. Property Decorators: Python provides a built-in way to define properties using the property decorator. This allows you to define getter, setter, and deleter methods for a property, which gives you more control over attribute access."
      ],
      "metadata": {
        "id": "ruZ4SmvV7z6-"
      }
    },
    {
      "cell_type": "markdown",
      "source": [
        "#Q42. Can encapsulation be bypassed in Python? If so, how?\n",
        "\n",
        "Answer :-\n",
        "\n",
        "In Python, encapsulation can be bypassed to some extent due to its dynamic nature and lack of strict access control mechanisms. While Python provides conventions and techniques for achieving encapsulation, they are not enforced by the language itself, and there are ways to bypass them.\n",
        "\n",
        "Here are some ways encapsulation can be bypassed in Python:\n",
        "\n",
        "1. Accessing Private Attributes: Although attributes prefixed with double underscores (__) are intended to be private, they can still be accessed from outside the class by name mangling. Python actually changes the name of these attributes to include the class name, making them harder to access but not impossible.\n",
        "\n",
        "2. Direct Modification of Attributes: Python allows direct modification of attributes, even if they are intended to be protected or private. There are no access modifiers like private or protected as in some other languages, so any attribute can be accessed and modified directly from outside the class.\n",
        "\n",
        "3. Using setattr() and getattr(): Python provides built-in functions setattr() and getattr() which can be used to set and get attribute values dynamically, bypassing any access control mechanisms that may have been implemented.\n",
        "\n",
        "4. Subclassing: Subclasses have access to all attributes and methods of their parent classes, including those that are intended to be private or protected. This means that subclasses can potentially bypass encapsulation by directly accessing or modifying these attributes."
      ],
      "metadata": {
        "id": "WsikyS_x8t58"
      }
    },
    {
      "cell_type": "markdown",
      "source": [
        "#Q43. Implement a class BankAccount with a private balance attribute. Include methods to deposit, withdraw, and check the balance.\n",
        "\n",
        "Answere :-"
      ],
      "metadata": {
        "id": "s3B9Zwat9dVi"
      }
    },
    {
      "cell_type": "code",
      "source": [
        "class BankAccount:\n",
        "  def __init__(self, initial_balance=0):\n",
        "    self.__balance = initial_balance\n",
        "\n",
        "  def deposit(self, amount):\n",
        "    if amount > 0:\n",
        "      self.__balance += amount\n",
        "      print(f\"Deposited ${amount}. Current balance: ${self.__balance}\")\n",
        "    else:\n",
        "      print(\"Invalid deposit amount.\")\n",
        "\n",
        "  def withdraw(self, amount):\n",
        "    if 0 < amount <= self.__balance:\n",
        "        self.__balance -= amount\n",
        "        print(f\"Withdrew ${amount}. Current balance: ${self.__balance}\")\n",
        "    else:\n",
        "      print(\"Invalid withdrawal amount or insufficient balance.\")\n",
        "\n",
        "  def check_balance(self):\n",
        "    print(f\"Current balance: ${self.__balance}\")\n",
        "\n",
        "account = BankAccount(100)\n",
        "\n",
        "account.check_balance()\n",
        "account.deposit(50)\n",
        "account.withdraw(30)\n",
        "account.check_balance()\n",
        "account.withdraw(200)"
      ],
      "metadata": {
        "id": "w5zwjJJO-XMB"
      },
      "execution_count": null,
      "outputs": []
    },
    {
      "cell_type": "markdown",
      "source": [
        "#Q44. Develop a Person class with private attributes name and email, and methods to set and get the email.\n",
        "\n",
        "Answer :-"
      ],
      "metadata": {
        "id": "sstATytu_Ro_"
      }
    },
    {
      "cell_type": "code",
      "source": [
        "class Person:\n",
        "  def __init__(self, name, email):\n",
        "    self.__name = name\n",
        "    self.__email = email\n",
        "\n",
        "  def set_email(self, new_email):\n",
        "    self.__email = new_email\n",
        "\n",
        "  def get_email(self):\n",
        "    return self.__email\n",
        "\n",
        "\n",
        "person = Person(\"Rohan\", \"rohan@example.com\")\n",
        "\n",
        "print(person._Person__email)\n",
        "\n",
        "print(person.get_email())\n",
        "\n",
        "person.set_email(\"rohan.s@example.com\")\n",
        "print(person.get_email())"
      ],
      "metadata": {
        "id": "MBV5CN86_b60"
      },
      "execution_count": null,
      "outputs": []
    },
    {
      "cell_type": "markdown",
      "source": [
        "#Q45. Why is encapsulation considered a pillar of object-oriented programming (OOP)?\n",
        "\n",
        "Answer :-\n",
        "\n",
        "Encapsulation is considered a pillar of object-oriented programming (OOP) because it promotes several key principles and benefits that are fundamental to the paradigm:\n",
        "\n",
        "1. Data Hiding: Encapsulation allows for the hiding of the internal state of an object from the outside world. By encapsulating data within objects and providing controlled access through methods, you can prevent direct manipulation of object attributes, reducing the risk of unintended modification and ensuring data integrity.\n",
        "2. Abstraction: Encapsulation promotes abstraction by exposing only the essential features of an object and hiding the implementation details. This allows users of the object to interact with it using a simplified interface, without needing to know how it is implemented internally. This separation of concerns simplifies the understanding and use of objects, making code more maintainable and reusable.\n",
        "3. Modularity: Encapsulation facilitates modularity by encapsulating related data and behavior within objects. This modular approach to programming allows for the creation of self-contained units of code that can be developed, tested, and maintained independently. Encapsulated objects can be easily reused in different contexts, promoting code reuse and reducing code duplication.\n",
        "4. Security: Encapsulation enhances security by restricting access to sensitive data and providing controlled interfaces for accessing and modifying that data. By encapsulating data within objects and exposing only necessary methods, you can prevent unauthorized access and manipulation of sensitive information, improving the overall security of your code.\n",
        "5. Flexibility and Maintainability: Encapsulation improves flexibility and maintainability by decoupling the implementation of an object from its interface. Changes to the internal implementation of an object can be made without affecting code that uses the object, as long as the interface remains unchanged. This allows for easier maintenance and evolution of code over time, as changes can be made to individual objects without impacting the rest of the system."
      ],
      "metadata": {
        "id": "owxTGXNyAQTM"
      }
    },
    {
      "cell_type": "markdown",
      "source": [
        "#Q46. Create a decorator in Python that adds functionality to a simple function by printing a message before and after the function execution.\n",
        "\n",
        "Answer :-\n",
        "\n"
      ],
      "metadata": {
        "id": "r1DL6HEqA5ea"
      }
    },
    {
      "cell_type": "code",
      "source": [
        "def my_decorator(func):\n",
        "  def wrapper():\n",
        "    print(\"Before function execution\")\n",
        "    func()\n",
        "    print(\"After function execution\")\n",
        "  return wrapper\n",
        "\n",
        "@my_decorator\n",
        "def say_hello():\n",
        "  print(\"Hello!\")\n",
        "\n",
        "say_hello()"
      ],
      "metadata": {
        "id": "jYU3dnvB3uTb"
      },
      "execution_count": null,
      "outputs": []
    },
    {
      "cell_type": "markdown",
      "source": [
        "#Q47.  Modify the decorator to accept arguments and print the function name along with the message.\n",
        "\n",
        "Answer :-"
      ],
      "metadata": {
        "id": "YU2psNRO340t"
      }
    },
    {
      "cell_type": "code",
      "source": [
        "def my_decorator(func):\n",
        "  def wrapper(*args, **kwargs):\n",
        "    print(f\"Before executing {func.__name__}\")\n",
        "    result = func(*args, **kwargs)\n",
        "    print(f\"After executing {func.__name__}\")\n",
        "    return result\n",
        "  return wrapper\n",
        "\n",
        "@my_decorator\n",
        "def say_hello(name):\n",
        "  print(f\"Hello, {name}!\")\n",
        "\n",
        "say_hello(\"rohan\")"
      ],
      "metadata": {
        "id": "E1hJbz8o4ab5"
      },
      "execution_count": null,
      "outputs": []
    },
    {
      "cell_type": "markdown",
      "source": [
        "#Q48. Create two decorators, and apply them to a single function. Ensure that they execute in the order they are applied.\n",
        "\n",
        "Answer :-"
      ],
      "metadata": {
        "id": "1mDritrZ4wtx"
      }
    },
    {
      "cell_type": "code",
      "source": [
        "def decorator1(func):\n",
        "  def wrapper(*args, **kwargs):\n",
        "    print(\"Decorator 1 - Before function execution\")\n",
        "    result = func(*args, **kwargs)\n",
        "    print(\"Decorator 1 - After function execution\")\n",
        "    return result\n",
        "  return wrapper\n",
        "\n",
        "def decorator2(func):\n",
        "  def wrapper(*args, **kwargs):\n",
        "    print(\"Decorator 2 - Before function execution\")\n",
        "    result = func(*args, **kwargs)\n",
        "    print(\"Decorator 2 - After function execution\")\n",
        "    return result\n",
        "  return wrapper\n",
        "\n",
        "@decorator1\n",
        "@decorator2\n",
        "def say_hello(name):\n",
        "  print(f\"Hello, {name}!\")\n",
        "\n",
        "say_hello(\"Kapil\")"
      ],
      "metadata": {
        "id": "TU7ac_5J45xF"
      },
      "execution_count": null,
      "outputs": []
    },
    {
      "cell_type": "markdown",
      "source": [
        "#Q49.  Modify the decorator to accept and pass function arguments to the wrapped function.\n",
        "\n",
        "Answer :-"
      ],
      "metadata": {
        "id": "XJVAvNQ75TOt"
      }
    },
    {
      "cell_type": "code",
      "source": [
        "def decorator1(func):\n",
        "  def wrapper(*args, **kwargs):\n",
        "    print(\"Decorator 1 - Before function execution\")\n",
        "    result = func(*args, **kwargs)\n",
        "    print(\"Decorator 1 - After function execution\")\n",
        "    return result\n",
        "  return wrapper\n",
        "\n",
        "def decorator2(func):\n",
        "  def wrapper(*args, **kwargs):\n",
        "    print(\"Decorator 2 - Before function execution\")\n",
        "    result = func(*args, **kwargs)\n",
        "    print(\"Decorator 2 - After function execution\")\n",
        "    return result\n",
        "  return wrapper\n",
        "\n",
        "@decorator1\n",
        "@decorator2\n",
        "def greet(name):\n",
        "  print(f\"Hello, {name}!\")\n",
        "\n",
        "greet(\"Pandit ji\")"
      ],
      "metadata": {
        "id": "br4dWGt95om1"
      },
      "execution_count": null,
      "outputs": []
    },
    {
      "cell_type": "markdown",
      "source": [
        "#Q50. Create a decorator that preserves the metadata of the original function.\n",
        "\n",
        "Answer :-"
      ],
      "metadata": {
        "id": "7lx40Sj17P7v"
      }
    },
    {
      "cell_type": "code",
      "source": [
        "from functools import wraps\n",
        "\n",
        "def preserve_metadata(func):\n",
        "  @wraps(func)\n",
        "  def wrapper(*args, **kwargs):\n",
        "    print(\"Decorator - Before function execution\")\n",
        "    result = func(*args, **kwargs)\n",
        "    print(\"Decorator - After function execution\")\n",
        "    return result\n",
        "  return wrapper\n",
        "\n",
        "@preserve_metadata\n",
        "def my_function():\n",
        "  \"\"\"This is a sample function.\"\"\"\n",
        "  pass\n",
        "\n",
        "print(my_function.__name__)\n",
        "print(my_function.__doc__)"
      ],
      "metadata": {
        "id": "3gGN6SWl7y9K"
      },
      "execution_count": null,
      "outputs": []
    },
    {
      "cell_type": "markdown",
      "source": [
        "#Q51. Create a Python class `Calculator` with a static method `add` that takes in two numbers and returns their sum.\n",
        "\n",
        "Answer :-"
      ],
      "metadata": {
        "id": "GTmXVfBv8Abn"
      }
    },
    {
      "cell_type": "code",
      "source": [
        "class Calculator:\n",
        "  @staticmethod\n",
        "  def add(num1, num2):\n",
        "    return num1 + num2\n",
        "\n",
        "result = Calculator.add(5, 3)\n",
        "print(\"Result:\", result)"
      ],
      "metadata": {
        "id": "irr2Ts918OK0"
      },
      "execution_count": null,
      "outputs": []
    },
    {
      "cell_type": "markdown",
      "source": [
        "#Q52. Create a Python class `Employee` with a class `method get_employee_count` that returns the total number of employees created.\n",
        "\n",
        "Answer :-"
      ],
      "metadata": {
        "id": "kFvgxfVI8aYo"
      }
    },
    {
      "cell_type": "code",
      "source": [
        "class Employee:\n",
        "  total_employees = 0\n",
        "\n",
        "  def __init__(self, name):\n",
        "    self.name = name\n",
        "    Employee.total_employees += 1\n",
        "\n",
        "  @classmethod\n",
        "  def get_employee_count(cls):\n",
        "    return cls.total_employees\n",
        "\n",
        "emp1 = Employee(\"Atul\")\n",
        "emp2 = Employee(\"Tulsi\")\n",
        "emp3 = Employee(\"Roshan\")\n",
        "\n",
        "print(\"Total employees:\", Employee.get_employee_count())"
      ],
      "metadata": {
        "id": "EtgeojNz8mnn"
      },
      "execution_count": null,
      "outputs": []
    },
    {
      "cell_type": "markdown",
      "source": [
        "#Q53. Create a Python class `StringFormatter` with a static method `reverse_string` that takes a string as input and returns its reverse.\n",
        "\n",
        "Answer :-"
      ],
      "metadata": {
        "id": "2WWjFNPU9fub"
      }
    },
    {
      "cell_type": "code",
      "source": [
        "class StringFormatter:\n",
        "  @staticmethod\n",
        "  def reverse_string(input_string):\n",
        "    return input_string[::-1]\n",
        "\n",
        "reversed_str = StringFormatter.reverse_string(\"Hii\")\n",
        "print(\"Reversed string:\", reversed_str)"
      ],
      "metadata": {
        "id": "21sGEZDQ9rnL"
      },
      "execution_count": null,
      "outputs": []
    },
    {
      "cell_type": "markdown",
      "source": [
        "#Q54. Create a Python class `Circle` with a class method `calculate_area` that calculates the area of a circle given its radius.\n",
        "\n",
        "Answer :-"
      ],
      "metadata": {
        "id": "FDp6PhQR-PnW"
      }
    },
    {
      "cell_type": "code",
      "source": [
        "import math\n",
        "\n",
        "class Circle:\n",
        "  @classmethod\n",
        "  def calculate_area(cls, radius):\n",
        "    return math.pi * radius ** 2\n",
        "\n",
        "radius = 5\n",
        "area = Circle.calculate_area(radius)\n",
        "print(\"Area of the circle with radius\", radius, \"is\", area)"
      ],
      "metadata": {
        "id": "fesYx3uw-X7E"
      },
      "execution_count": null,
      "outputs": []
    },
    {
      "cell_type": "markdown",
      "source": [
        "#Q55. Create a Python class `TemperatureConverter` with a static method `celsius_to_fahrenheit` that converts Celsius to Fahrenheit.\n",
        "\n",
        "Answer :-"
      ],
      "metadata": {
        "id": "Udhf3_VK-sr9"
      }
    },
    {
      "cell_type": "code",
      "source": [
        "class TemperatureConverter:\n",
        "  @staticmethod\n",
        "  def celsius_to_fahrenheit(celsius):\n",
        "    return (celsius * 9/5) + 32\n",
        "\n",
        "celsius_temp = 20\n",
        "fahrenheit_temp = TemperatureConverter.celsius_to_fahrenheit(celsius_temp)\n",
        "print(f\"{celsius_temp}°C is equal to {fahrenheit_temp}°F\")"
      ],
      "metadata": {
        "id": "1hLWS4iS_CQu"
      },
      "execution_count": null,
      "outputs": []
    },
    {
      "cell_type": "markdown",
      "source": [
        "#Q56. What is the purpose of the __str__() method in Python classes? Provide an example.\n",
        "\n",
        "Answer :-\n",
        "\n",
        "The __str__() method in Python classes is used to define a string representation of an object. When you use the str() function or print() function with an object instance, Python calls the __str__() method of that object to get its string representation.\n",
        "\n",
        "Example:"
      ],
      "metadata": {
        "id": "ccW88mF8_Kr3"
      }
    },
    {
      "cell_type": "code",
      "source": [
        "class Car:\n",
        "  def __init__(self, brand, model, year):\n",
        "    self.brand = brand\n",
        "    self.model = model\n",
        "    self.year = year\n",
        "\n",
        "  def __str__(self):\n",
        "    return f\"{self.brand} {self.model} ({self.year})\"\n",
        "\n",
        "my_car = Car(\"Toyota\", \"Camry\", 2020)\n",
        "\n",
        "car_str = str(my_car)\n",
        "print(car_str)\n",
        "print(my_car)"
      ],
      "metadata": {
        "id": "CDIi9Kr6ANNY"
      },
      "execution_count": null,
      "outputs": []
    },
    {
      "cell_type": "markdown",
      "source": [
        "#Q57. How does the __len__() method work in Python? Provide an example.\n",
        "\n",
        "Answer :-\n",
        "\n",
        "In Python, the __len__() method is a special method used to determine the length of an object. It allows objects to customize their behavior when the built-in len() function is called on them. This method should return the length of the object, which typically means the number of elements it contains.\n",
        "\n",
        "Example:"
      ],
      "metadata": {
        "id": "UJtbPKPcA2F7"
      }
    },
    {
      "cell_type": "code",
      "source": [
        "class MyList:\n",
        "  def __init__(self, data):\n",
        "    self.data = data\n",
        "\n",
        "  def __len__(self):\n",
        "    return len(self.data)\n",
        "\n",
        "my_list = MyList([1, 2, 3, 4, 5])\n",
        "print(len(my_list))"
      ],
      "metadata": {
        "id": "UIvQKDNOBUmz"
      },
      "execution_count": null,
      "outputs": []
    },
    {
      "cell_type": "markdown",
      "source": [
        "#Q58.  Explain the usage of the __add__() method in Python classes. Provide an example.\n",
        "\n",
        "Answer :-\n",
        "\n",
        "In Python, the __add__() method is a special method used to define the behavior of the addition operation (+) for instances of a class. When you use the + operator between two objects of a class, Python internally calls the __add__() method of the left-hand operand object and passes the right-hand operand object as an argument.\n",
        "\n",
        "Example:"
      ],
      "metadata": {
        "id": "G2XqqbXYBxhx"
      }
    },
    {
      "cell_type": "code",
      "source": [
        "class Point:\n",
        "  def __init__(self, x, y):\n",
        "    self.x = x\n",
        "    self.y = y\n",
        "\n",
        "  def __add__(self, other):\n",
        "    if isinstance(other, Point):\n",
        "      return Point(self.x + other.x, self.y + other.y)\n",
        "    else:\n",
        "      raise TypeError(\"Unsupported operand type for +: '{}' and '{}'\".format(type(self), type(other)))\n",
        "\n",
        "point1 = Point(1, 2)\n",
        "point2 = Point(3, 4)\n",
        "point3 = point1 + point2\n",
        "\n",
        "print(\"Point 1:\", (point1.x, point1.y))\n",
        "print(\"Point 2:\", (point2.x, point2.y))\n",
        "print(\"Point 3 (Result of Addition):\", (point3.x, point3.y))"
      ],
      "metadata": {
        "id": "l7Hoa6M3CE2f"
      },
      "execution_count": null,
      "outputs": []
    },
    {
      "cell_type": "markdown",
      "source": [
        "#Q59. What is the purpose of the __getitem__() method in Python? Provide an example.\n",
        "\n",
        "Answer :-\n",
        "\n",
        "In Python, the __getitem__() method is a special method used to enable instances of a class to support indexing and slicing operations ([]). When you use square brackets to access an element or a slice of elements from an object, Python internally calls the __getitem__() method of that object and passes the index or slice object as an argument.\n",
        "\n",
        "The purpose of the __getitem__() method is to define the behavior of how an object responds to item access operations.\n",
        "\n",
        "Example:"
      ],
      "metadata": {
        "id": "tS8ydnEmCzFZ"
      }
    },
    {
      "cell_type": "code",
      "source": [
        "class MyList:\n",
        "  def __init__(self, data):\n",
        "    self.data = data\n",
        "\n",
        "  def __getitem__(self, index):\n",
        "    return self.data[index]\n",
        "\n",
        "my_list = MyList([1, 2, 3, 4, 5])\n",
        "\n",
        "print(my_list[0])\n",
        "print(my_list[3])\n",
        "\n",
        "print(my_list[1:4])"
      ],
      "metadata": {
        "id": "dfnaNEZGDInS"
      },
      "execution_count": null,
      "outputs": []
    },
    {
      "cell_type": "markdown",
      "source": [
        "#Q60. Explain the usage of the __iter__() and __next__() methods in Python. Provide an example using iterators.\n",
        "\n",
        "Answer :-\n",
        "\n",
        "\n",
        "In Python, iterators are objects that represent a stream of data. They implement the iterator protocol, which requires two methods: __iter__() and __next__(). These methods work together to allow iteration over objects.\n",
        "\n",
        "__iter__(): This method returns the iterator object itself. It is called when you use the iter() function on an iterable object or when the object is used in a for loop. It should return an iterator object.\n",
        "__next__(): This method returns the next item from the iterator. It is called every time you use the next() function on the iterator. When there are no more items to return, it should raise the StopIteration exception.\n",
        "\n",
        "Example:"
      ],
      "metadata": {
        "id": "HFhu0lB1DmR-"
      }
    },
    {
      "cell_type": "code",
      "source": [
        "class MyIterator:\n",
        "  def __init__(self, data):\n",
        "    self.data = data\n",
        "    self.index = 0\n",
        "\n",
        "  def __iter__(self):\n",
        "    return self\n",
        "\n",
        "  def __next__(self):\n",
        "    if self.index >= len(self.data):\n",
        "      raise StopIteration\n",
        "    item = self.data[self.index]\n",
        "    self.index += 1\n",
        "    return item\n",
        "\n",
        "my_iter = MyIterator([1, 2, 3, 4, 5])\n",
        "\n",
        "for item in my_iter:\n",
        "  print(item)\n",
        "\n",
        "my_iter = MyIterator([1, 2, 3, 4, 5])\n",
        "print(next(my_iter))\n",
        "print(next(my_iter))\n",
        "print(next(my_iter))"
      ],
      "metadata": {
        "id": "kBcWoDFxD_zN"
      },
      "execution_count": null,
      "outputs": []
    },
    {
      "cell_type": "markdown",
      "source": [
        "#Q61. What is the purpose of a getter method in Python? Provide an example demonstrating the use of a getter method using property decorators.\n",
        "\n",
        "Answer :-\n",
        "\n",
        "In Python, a getter method is used to retrieve the value of an attribute of an object. It provides controlled access to the attribute, allowing validation, computation, or any other logic before returning the value. Getter methods are commonly used to implement encapsulation, where the internal state of an object is hidden from the outside world, and access to it is provided through methods.\n",
        "\n",
        "Property decorators in Python are a convenient way to define getter and setter methods for class attributes. They allow you to define a method that behaves like an attribute, providing a way to get and set its value while controlling access and validation.\n",
        "\n",
        "Example:"
      ],
      "metadata": {
        "id": "W_potxMZEmn2"
      }
    },
    {
      "cell_type": "code",
      "source": [
        "class Circle:\n",
        "  def __init__(self, radius):\n",
        "    self._radius = radius\n",
        "\n",
        "  @property\n",
        "  def radius(self):\n",
        "    return self._radius\n",
        "\n",
        "circle = Circle(5)\n",
        "\n",
        "print(circle.radius)"
      ],
      "metadata": {
        "id": "mFYh0geQFFat"
      },
      "execution_count": null,
      "outputs": []
    },
    {
      "cell_type": "markdown",
      "source": [
        "#Q62. Explain the role of setter methods in Python. Demonstrate how to use a setter method to modify a class attribute using property decorators.\n",
        "\n",
        "Answer :-\n",
        "\n",
        "\n",
        "In Python, setter methods are used to modify the value of an attribute of an object. They provide controlled access to the attribute, allowing validation, computation, or any other logic before setting the value. Setter methods are commonly used to implement encapsulation, where the internal state of an object is hidden from the outside world, and access to it is provided through methods.\n",
        "\n",
        "Property decorators in Python can be used to define setter methods for class attributes. They allow you to define a method that behaves like an attribute, providing a way to get and set its value while controlling access and validation.\n",
        "\n",
        "Example:\n"
      ],
      "metadata": {
        "id": "pQr-ZeonFWvl"
      }
    },
    {
      "cell_type": "code",
      "source": [
        "class Circle:\n",
        "  def __init__(self, radius):\n",
        "    self._radius = radius\n",
        "\n",
        "  @property\n",
        "  def radius(self):\n",
        "    return self._radius\n",
        "\n",
        "  @radius.setter\n",
        "  def radius(self, value):\n",
        "    if value <= 0:\n",
        "      raise ValueError(\"Radius must be a positive number.\")\n",
        "    self._radius = value\n",
        "\n",
        "circle = Circle(5)\n",
        "print(circle.radius)\n",
        "\n",
        "circle.radius = 10\n",
        "print(circle.radius)\n",
        "\n",
        "try:\n",
        "  circle.radius = -5\n",
        "except ValueError as e:\n",
        "  print(e)"
      ],
      "metadata": {
        "id": "SFvfkcPVF6PD"
      },
      "execution_count": null,
      "outputs": []
    },
    {
      "cell_type": "markdown",
      "source": [
        "#Q63. What is the purpose of the @property decorator in Python? Provide an example illustrating its usage.\n",
        "\n",
        "Answer :-\n",
        "\n",
        "In Python, the @property decorator is used to define special getter methods for class attributes. It allows you to define a method that behaves like an attribute, providing a way to get its value while controlling access and validation.\n",
        "\n",
        "The @property decorator allows you to access a method as if it were an attribute, making the code more readable and maintaining compatibility with existing code that accesses attributes directly.\n",
        "\n",
        "Example:"
      ],
      "metadata": {
        "id": "pJ5SyvH-GdNJ"
      }
    },
    {
      "cell_type": "code",
      "source": [
        "class Circle:\n",
        "  def __init__(self, radius):\n",
        "    self._radius = radius\n",
        "\n",
        "  @property\n",
        "  def radius(self):\n",
        "    return self._radius\n",
        "\n",
        "circle = Circle(5)\n",
        "print(circle.radius)"
      ],
      "metadata": {
        "id": "DsjkjTJgGtso"
      },
      "execution_count": null,
      "outputs": []
    },
    {
      "cell_type": "markdown",
      "source": [
        "#Q64. Explain the use of the @deleter decorator in Python property decorators. Provide a code example demonstrating its application.\n",
        "\n",
        "Answer :-\n",
        "\n",
        "\n",
        "In Python, the @deleter decorator is used in property decorators to define a special method that will be called when an attribute is deleted from an object. It allows you to define custom behavior for attribute deletion, such as releasing resources or performing cleanup operations.\n",
        "\n",
        "The @deleter decorator is used in conjunction with the @property decorator to define a property with a custom deletion method.\n",
        "\n",
        "Example:"
      ],
      "metadata": {
        "id": "bWStXW1xG6P-"
      }
    },
    {
      "cell_type": "code",
      "source": [
        "class Circle:\n",
        "  def __init__(self, radius):\n",
        "    self._radius = radius\n",
        "\n",
        "  @property\n",
        "  def radius(self):\n",
        "    return self._radius\n",
        "\n",
        "  @radius.setter\n",
        "  def radius(self, value):\n",
        "    if value <= 0:\n",
        "      raise ValueError(\"Radius must be a positive number.\")\n",
        "    self._radius = value\n",
        "\n",
        "  @radius.deleter\n",
        "  def radius(self):\n",
        "    print(\"Deleting radius attribute\")\n",
        "    del self._radius\n",
        "\n",
        "circle = Circle(5)\n",
        "print(circle.radius)\n",
        "\n",
        "del circle.radius"
      ],
      "metadata": {
        "id": "Afk-2iv1HWcA"
      },
      "execution_count": null,
      "outputs": []
    },
    {
      "cell_type": "markdown",
      "source": [
        "#Q65. How does encapsulation relate to property decorators in Python? Provide an example showcasing encapsulation using property decorators.\n",
        "\n",
        "Answer :-\n",
        "\n",
        "\n",
        "Encapsulation in Python refers to the concept of bundling the data (attributes) and the methods (functions) that operate on the data into a single unit, typically called a class. It allows us to hide the internal state of an object and restrict access to it from outside the class. Property decorators play a significant role in implementing encapsulation by providing controlled access to class attributes.\n",
        "\n",
        "Example:\n",
        "\n"
      ],
      "metadata": {
        "id": "8JlCX2s_HxFk"
      }
    },
    {
      "cell_type": "code",
      "source": [
        "class Circle:\n",
        "  def __init__(self, radius):\n",
        "    self._radius = radius  # Prefixing with underscore to indicate it's private\n",
        "\n",
        "  @property\n",
        "  def radius(self):\n",
        "    return self._radius\n",
        "\n",
        "  @radius.setter\n",
        "  def radius(self, value):\n",
        "    if value <= 0:\n",
        "      raise ValueError(\"Radius must be a positive number.\")\n",
        "    self._radius = value\n",
        "\n",
        "circle = Circle(5)\n",
        "print(circle.radius)\n",
        "\n",
        "try:\n",
        "  circle._radius = -5\n",
        "except ValueError as e:\n",
        "  print(e)\n",
        "\n",
        "circle.radius = 10\n",
        "print(circle.radius)"
      ],
      "metadata": {
        "id": "XiS6MQiuIO8G"
      },
      "execution_count": null,
      "outputs": []
    }
  ]
}