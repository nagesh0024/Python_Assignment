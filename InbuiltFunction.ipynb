{
  "nbformat": 4,
  "nbformat_minor": 0,
  "metadata": {
    "colab": {
      "provenance": [],
      "authorship_tag": "ABX9TyM9D7T7KLeFH3upw1OkurRX",
      "include_colab_link": true
    },
    "kernelspec": {
      "name": "python3",
      "display_name": "Python 3"
    },
    "language_info": {
      "name": "python"
    }
  },
  "cells": [
    {
      "cell_type": "markdown",
      "metadata": {
        "id": "view-in-github",
        "colab_type": "text"
      },
      "source": [
        "<a href=\"https://colab.research.google.com/github/nagesh0024/Python_Assignment/blob/main/InbuiltFunction.ipynb\" target=\"_parent\"><img src=\"https://colab.research.google.com/assets/colab-badge.svg\" alt=\"Open In Colab\"/></a>"
      ]
    },
    {
      "cell_type": "markdown",
      "source": [
        "Q1. What is the purpose of the len() function in Python, and how can it be used with strings?\n",
        "\n",
        "Answer :-\n",
        "\n",
        "The len() function in Python is used to determine the length of a sequence or collection, such as a string, list, tuple, dictionary, or set. It returns the number of elements or characters in the given sequence or collection.\n",
        "When used with strings specifically, the len() function returns the number of characters in the string, including spaces, punctuation marks, and special characters.\n",
        "\n",
        "The len() function is commonly used in various programming tasks, such as:\n",
        "\n",
        "Determining the length of a string or other sequence to perform conditional logic or validation.\n",
        "Iterating over a sequence using a loop and the range() function, where the length of the sequence determines the number of iterations.\n",
        "Checking whether a sequence is empty by comparing its length to zero.\n",
        "Dynamically allocating memory for arrays or data structures based on the length of a sequence.\n",
        "\n",
        "Here are a few examples:"
      ],
      "metadata": {
        "id": "rdFw4NXHZNQh"
      }
    },
    {
      "cell_type": "code",
      "source": [
        "my_string = \"Hello user\"\n",
        "print(len(my_string))"
      ],
      "metadata": {
        "id": "fQ3jGnQTbNP5"
      },
      "execution_count": null,
      "outputs": []
    },
    {
      "cell_type": "code",
      "execution_count": null,
      "metadata": {
        "id": "aDSkyMSiZK-u"
      },
      "outputs": [],
      "source": [
        "# Checking if a string is empty\n",
        "my_string = \"\"\n",
        "if len(my_string) == 0:\n",
        "    print(\"String is empty\")\n",
        "else:\n",
        "    print(\"String is not empty\")"
      ]
    },
    {
      "cell_type": "markdown",
      "source": [
        "Q2. How can you concatenate two or more strings in Python, and can you provide an example of string concatenation?\n",
        "\n",
        "Answer :-\n",
        "\n",
        "In Python, you can concatenate two or more strings using the '+' operator or the '+=' augmented assignment operator. String concatenation involves combining multiple strings into a single string.\n",
        "\n",
        "Here's how you can concatenate strings using the + operator:"
      ],
      "metadata": {
        "id": "WnJkaPo8bdmY"
      }
    },
    {
      "cell_type": "code",
      "source": [
        "string1 = \"Hello, \"\n",
        "string2 = \"World!\"\n",
        "concatenated_string = string1 + string2\n",
        "print(concatenated_string)"
      ],
      "metadata": {
        "id": "r2ZxOVZhbodN"
      },
      "execution_count": null,
      "outputs": []
    },
    {
      "cell_type": "markdown",
      "source": [
        "In this example, the strings \"Hello, \" and \"World!\" are concatenated using the + operator, and the result is stored in the variable concatenated_string.\n",
        "\n"
      ],
      "metadata": {
        "id": "E5UJtDQWbvPw"
      }
    },
    {
      "cell_type": "markdown",
      "source": [
        "Q3. What is string slicing in Python, and how can you extract a portion of a string using this method?\n",
        "\n",
        "Answer :-\n",
        "\n",
        "String slicing in Python refers to the technique of extracting a substring (a portion of a string) from a larger string. It allows you to specify a range of indices to extract a contiguous sequence of characters from the original string.\n",
        "\n",
        "The syntax for string slicing is as follows:\n",
        "\n",
        "string[start:end:step]\n",
        "\n",
        "start: The index at which the slicing starts. This index is included in the slice.\n",
        "end: The index at which the slicing ends. This index is excluded from the slice.\n",
        "step: Optional. The step or increment to move between indices while slicing. Default value is 1.\n",
        "\n",
        "Here's an example of how to use string slicing to extract a portion of a string:"
      ],
      "metadata": {
        "id": "BS2emY0McPGC"
      }
    },
    {
      "cell_type": "code",
      "source": [
        "my_string = \"Hello, World!\"\n",
        "\n",
        "# Extract the substring \"Hello\" from the beginning of the string\n",
        "substring1 = my_string[0:5]\n",
        "print(substring1)\n",
        "\n",
        "# Extract the substring \"World\" from the end of the string\n",
        "substring2 = my_string[7:12]\n",
        "print(substring2)\n",
        "\n",
        "# Extract every other character from the string\n",
        "substring3 = my_string[::2]\n",
        "print(substring3)"
      ],
      "metadata": {
        "id": "PTlb77OTdJq7"
      },
      "execution_count": null,
      "outputs": []
    },
    {
      "cell_type": "markdown",
      "source": [
        "In this example:\n",
        "\n",
        "substring1 extracts characters from index 0 to 4 (inclusive), resulting in \"Hello\".\n",
        "substring2 extracts characters from index 7 to 11 (inclusive), resulting in \"World\".\n",
        "substring3 extracts characters with a step of 2, resulting in \"HloWrd\".\n",
        "\n"
      ],
      "metadata": {
        "id": "bkds4C-PddO6"
      }
    },
    {
      "cell_type": "markdown",
      "source": [
        "Q4. How can you change the case of a string in Python, and can you provide examples of both making a string all uppercase and all lowercase?\n",
        "\n",
        "\n",
        "In Python, you can change the case of a string using built-in string methods: upper() and lower(). These methods return new strings with the case changed to either all uppercase or all lowercase, respectively.\n",
        "\n",
        "Here's how you can make a string all uppercase and all lowercase:"
      ],
      "metadata": {
        "id": "OMuKmRMTeGO-"
      }
    },
    {
      "cell_type": "code",
      "source": [
        "#Making a String All Uppercase:\n",
        "\n",
        "my_string = \"Hello, World!\"\n",
        "uppercase_string = my_string.upper()\n",
        "print(uppercase_string)\n",
        "\n",
        "#Making a String All Lowercase:\n",
        "\n",
        "my_string = \"Hello, World!\"\n",
        "lowercase_string = my_string.lower()\n",
        "print(lowercase_string)"
      ],
      "metadata": {
        "colab": {
          "base_uri": "https://localhost:8080/"
        },
        "id": "ToZDOWp-eUCS",
        "outputId": "77ed372b-7be6-4b04-d5eb-692bcb45f9ff"
      },
      "execution_count": 5,
      "outputs": [
        {
          "output_type": "stream",
          "name": "stdout",
          "text": [
            "HELLO, WORLD!\n",
            "hello, world!\n"
          ]
        }
      ]
    },
    {
      "cell_type": "markdown",
      "source": [
        "In both examples:\n",
        "\n",
        "The upper() method is used to convert the string to all uppercase characters.\n",
        "\n",
        "The lower() method is used to convert the string to all lowercase characters.\n",
        "\n",
        "The original string my_string remains unchanged, and new strings with the desired case are returned by the methods.\n",
        "\n"
      ],
      "metadata": {
        "id": "kNT3an9pfr9C"
      }
    },
    {
      "cell_type": "markdown",
      "source": [
        "Q5. What does the split() method do in Python, and how can you split a string using a specific delimiter?\n",
        "\n",
        "In Python, the split() method is used to split a string into a list of substrings based on a specified delimiter. By default, the split() method splits the string using whitespace characters (spaces, tabs, and newlines) as the delimiter. However, you can also specify a custom delimiter as an argument to the method.\n",
        "\n",
        "Here's an example of splitting a string using the split() method with a specific delimiter:"
      ],
      "metadata": {
        "id": "PKbv3VjefyAh"
      }
    },
    {
      "cell_type": "code",
      "source": [
        "my_string = \"apple,banana,orange,grape\"\n",
        "fruits_list = my_string.split(',')\n",
        "print(fruits_list)"
      ],
      "metadata": {
        "id": "Amtb6ZSif_2h"
      },
      "execution_count": null,
      "outputs": []
    },
    {
      "cell_type": "markdown",
      "source": [
        "In this example, the string \"apple,banana,orange,grape\" is split into substrings using the comma , as the delimiter, resulting in a list of substrings ['apple', 'banana', 'orange', 'grape'].\n"
      ],
      "metadata": {
        "id": "syopBUDngOaA"
      }
    }
  ]
}